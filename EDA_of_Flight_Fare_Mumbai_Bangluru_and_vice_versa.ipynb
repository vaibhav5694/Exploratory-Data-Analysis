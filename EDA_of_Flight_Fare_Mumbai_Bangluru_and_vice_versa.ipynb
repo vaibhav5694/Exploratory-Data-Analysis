{
  "cells": [
    {
      "cell_type": "markdown",
      "id": "d8461481",
      "metadata": {
        "papermill": {
          "duration": 0.014952,
          "end_time": "2023-09-06T06:56:03.835725",
          "exception": false,
          "start_time": "2023-09-06T06:56:03.820773",
          "status": "completed"
        },
        "tags": [],
        "id": "d8461481"
      },
      "source": [
        "# EDA on Flight Fares from Mumbai to Bangluru and Vice Versa."
      ]
    },
    {
      "cell_type": "markdown",
      "id": "d377217a",
      "metadata": {
        "papermill": {
          "duration": 0.014086,
          "end_time": "2023-09-06T06:56:03.893005",
          "exception": false,
          "start_time": "2023-09-06T06:56:03.878919",
          "status": "completed"
        },
        "tags": [],
        "id": "d377217a"
      },
      "source": [
        "#### Importing libraries"
      ]
    },
    {
      "cell_type": "code",
      "execution_count": 27,
      "id": "2b99df5e",
      "metadata": {
        "execution": {
          "iopub.execute_input": "2023-09-06T06:56:03.924448Z",
          "iopub.status.busy": "2023-09-06T06:56:03.923805Z",
          "iopub.status.idle": "2023-09-06T06:56:05.840797Z",
          "shell.execute_reply": "2023-09-06T06:56:05.839791Z"
        },
        "papermill": {
          "duration": 1.935763,
          "end_time": "2023-09-06T06:56:05.843412",
          "exception": false,
          "start_time": "2023-09-06T06:56:03.907649",
          "status": "completed"
        },
        "tags": [],
        "id": "2b99df5e"
      },
      "outputs": [],
      "source": [
        "import numpy as np\n",
        "import pandas as pd\n",
        "import matplotlib.pyplot as plt\n",
        "import matplotlib\n",
        "import seaborn as sns"
      ]
    },
    {
      "cell_type": "markdown",
      "id": "ac2bc0e3",
      "metadata": {
        "papermill": {
          "duration": 0.014658,
          "end_time": "2023-09-06T06:56:05.872745",
          "exception": false,
          "start_time": "2023-09-06T06:56:05.858087",
          "status": "completed"
        },
        "tags": [],
        "id": "ac2bc0e3"
      },
      "source": [
        "#### Importing dataset"
      ]
    },
    {
      "cell_type": "code",
      "execution_count": 28,
      "id": "5f9e4724",
      "metadata": {
        "execution": {
          "iopub.execute_input": "2023-09-06T06:56:05.904425Z",
          "iopub.status.busy": "2023-09-06T06:56:05.903386Z",
          "iopub.status.idle": "2023-09-06T06:56:05.986666Z",
          "shell.execute_reply": "2023-09-06T06:56:05.985801Z"
        },
        "papermill": {
          "duration": 0.101675,
          "end_time": "2023-09-06T06:56:05.989066",
          "exception": false,
          "start_time": "2023-09-06T06:56:05.887391",
          "status": "completed"
        },
        "tags": [],
        "id": "5f9e4724"
      },
      "outputs": [],
      "source": [
        "df = pd.read_csv('/content/flight_data_BOM_BLR.csv') #mumbai-blr\n"
      ]
    },
    {
      "cell_type": "markdown",
      "id": "a80ac8bd",
      "metadata": {
        "papermill": {
          "duration": 0.014641,
          "end_time": "2023-09-06T06:56:06.018864",
          "exception": false,
          "start_time": "2023-09-06T06:56:06.004223",
          "status": "completed"
        },
        "tags": [],
        "id": "a80ac8bd"
      },
      "source": [
        "# Data Preprocessing🔬"
      ]
    },
    {
      "cell_type": "code",
      "execution_count": 29,
      "id": "10b54808",
      "metadata": {
        "execution": {
          "iopub.execute_input": "2023-09-06T06:56:06.050596Z",
          "iopub.status.busy": "2023-09-06T06:56:06.049974Z",
          "iopub.status.idle": "2023-09-06T06:56:06.074110Z",
          "shell.execute_reply": "2023-09-06T06:56:06.073023Z"
        },
        "papermill": {
          "duration": 0.043123,
          "end_time": "2023-09-06T06:56:06.076909",
          "exception": false,
          "start_time": "2023-09-06T06:56:06.033786",
          "status": "completed"
        },
        "tags": [],
        "colab": {
          "base_uri": "https://localhost:8080/",
          "height": 206
        },
        "id": "10b54808",
        "outputId": "13fc3bee-159f-4b9d-f82b-7161f5dc342c"
      },
      "outputs": [
        {
          "output_type": "execute_result",
          "data": {
            "text/plain": [
              "  FlightName FlightCode DepartingCity DepartingTime ArrivingCity  \\\n",
              "0  Air India     AI 621        Mumbai         03:55    Bengaluru   \n",
              "1    AirAsia     I5 670        Mumbai         19:55    Bengaluru   \n",
              "2    AirAsia    I5 2992        Mumbai         23:55    Bengaluru   \n",
              "3     IndiGo    6E 5388        Mumbai         21:30    Bengaluru   \n",
              "4  Akasa Air    QP 1103        Mumbai         00:45    Bengaluru   \n",
              "\n",
              "       ArrivingTime   Duration  Price  \n",
              "0             05:50  01 h 55 m  2,307  \n",
              "1             21:45  01 h 50 m  2,773  \n",
              "2  01:45\\r\\n+ 1 DAY  01 h 50 m  2,773  \n",
              "3             23:15  01 h 45 m  2,839  \n",
              "4             02:20  01 h 35 m  3,005  "
            ],
            "text/html": [
              "\n",
              "  <div id=\"df-e272ed45-8466-4a34-8161-631893c7a76f\" class=\"colab-df-container\">\n",
              "    <div>\n",
              "<style scoped>\n",
              "    .dataframe tbody tr th:only-of-type {\n",
              "        vertical-align: middle;\n",
              "    }\n",
              "\n",
              "    .dataframe tbody tr th {\n",
              "        vertical-align: top;\n",
              "    }\n",
              "\n",
              "    .dataframe thead th {\n",
              "        text-align: right;\n",
              "    }\n",
              "</style>\n",
              "<table border=\"1\" class=\"dataframe\">\n",
              "  <thead>\n",
              "    <tr style=\"text-align: right;\">\n",
              "      <th></th>\n",
              "      <th>FlightName</th>\n",
              "      <th>FlightCode</th>\n",
              "      <th>DepartingCity</th>\n",
              "      <th>DepartingTime</th>\n",
              "      <th>ArrivingCity</th>\n",
              "      <th>ArrivingTime</th>\n",
              "      <th>Duration</th>\n",
              "      <th>Price</th>\n",
              "    </tr>\n",
              "  </thead>\n",
              "  <tbody>\n",
              "    <tr>\n",
              "      <th>0</th>\n",
              "      <td>Air India</td>\n",
              "      <td>AI 621</td>\n",
              "      <td>Mumbai</td>\n",
              "      <td>03:55</td>\n",
              "      <td>Bengaluru</td>\n",
              "      <td>05:50</td>\n",
              "      <td>01 h 55 m</td>\n",
              "      <td>2,307</td>\n",
              "    </tr>\n",
              "    <tr>\n",
              "      <th>1</th>\n",
              "      <td>AirAsia</td>\n",
              "      <td>I5 670</td>\n",
              "      <td>Mumbai</td>\n",
              "      <td>19:55</td>\n",
              "      <td>Bengaluru</td>\n",
              "      <td>21:45</td>\n",
              "      <td>01 h 50 m</td>\n",
              "      <td>2,773</td>\n",
              "    </tr>\n",
              "    <tr>\n",
              "      <th>2</th>\n",
              "      <td>AirAsia</td>\n",
              "      <td>I5 2992</td>\n",
              "      <td>Mumbai</td>\n",
              "      <td>23:55</td>\n",
              "      <td>Bengaluru</td>\n",
              "      <td>01:45\\r\\n+ 1 DAY</td>\n",
              "      <td>01 h 50 m</td>\n",
              "      <td>2,773</td>\n",
              "    </tr>\n",
              "    <tr>\n",
              "      <th>3</th>\n",
              "      <td>IndiGo</td>\n",
              "      <td>6E 5388</td>\n",
              "      <td>Mumbai</td>\n",
              "      <td>21:30</td>\n",
              "      <td>Bengaluru</td>\n",
              "      <td>23:15</td>\n",
              "      <td>01 h 45 m</td>\n",
              "      <td>2,839</td>\n",
              "    </tr>\n",
              "    <tr>\n",
              "      <th>4</th>\n",
              "      <td>Akasa Air</td>\n",
              "      <td>QP 1103</td>\n",
              "      <td>Mumbai</td>\n",
              "      <td>00:45</td>\n",
              "      <td>Bengaluru</td>\n",
              "      <td>02:20</td>\n",
              "      <td>01 h 35 m</td>\n",
              "      <td>3,005</td>\n",
              "    </tr>\n",
              "  </tbody>\n",
              "</table>\n",
              "</div>\n",
              "    <div class=\"colab-df-buttons\">\n",
              "\n",
              "  <div class=\"colab-df-container\">\n",
              "    <button class=\"colab-df-convert\" onclick=\"convertToInteractive('df-e272ed45-8466-4a34-8161-631893c7a76f')\"\n",
              "            title=\"Convert this dataframe to an interactive table.\"\n",
              "            style=\"display:none;\">\n",
              "\n",
              "  <svg xmlns=\"http://www.w3.org/2000/svg\" height=\"24px\" viewBox=\"0 -960 960 960\">\n",
              "    <path d=\"M120-120v-720h720v720H120Zm60-500h600v-160H180v160Zm220 220h160v-160H400v160Zm0 220h160v-160H400v160ZM180-400h160v-160H180v160Zm440 0h160v-160H620v160ZM180-180h160v-160H180v160Zm440 0h160v-160H620v160Z\"/>\n",
              "  </svg>\n",
              "    </button>\n",
              "\n",
              "  <style>\n",
              "    .colab-df-container {\n",
              "      display:flex;\n",
              "      gap: 12px;\n",
              "    }\n",
              "\n",
              "    .colab-df-convert {\n",
              "      background-color: #E8F0FE;\n",
              "      border: none;\n",
              "      border-radius: 50%;\n",
              "      cursor: pointer;\n",
              "      display: none;\n",
              "      fill: #1967D2;\n",
              "      height: 32px;\n",
              "      padding: 0 0 0 0;\n",
              "      width: 32px;\n",
              "    }\n",
              "\n",
              "    .colab-df-convert:hover {\n",
              "      background-color: #E2EBFA;\n",
              "      box-shadow: 0px 1px 2px rgba(60, 64, 67, 0.3), 0px 1px 3px 1px rgba(60, 64, 67, 0.15);\n",
              "      fill: #174EA6;\n",
              "    }\n",
              "\n",
              "    .colab-df-buttons div {\n",
              "      margin-bottom: 4px;\n",
              "    }\n",
              "\n",
              "    [theme=dark] .colab-df-convert {\n",
              "      background-color: #3B4455;\n",
              "      fill: #D2E3FC;\n",
              "    }\n",
              "\n",
              "    [theme=dark] .colab-df-convert:hover {\n",
              "      background-color: #434B5C;\n",
              "      box-shadow: 0px 1px 3px 1px rgba(0, 0, 0, 0.15);\n",
              "      filter: drop-shadow(0px 1px 2px rgba(0, 0, 0, 0.3));\n",
              "      fill: #FFFFFF;\n",
              "    }\n",
              "  </style>\n",
              "\n",
              "    <script>\n",
              "      const buttonEl =\n",
              "        document.querySelector('#df-e272ed45-8466-4a34-8161-631893c7a76f button.colab-df-convert');\n",
              "      buttonEl.style.display =\n",
              "        google.colab.kernel.accessAllowed ? 'block' : 'none';\n",
              "\n",
              "      async function convertToInteractive(key) {\n",
              "        const element = document.querySelector('#df-e272ed45-8466-4a34-8161-631893c7a76f');\n",
              "        const dataTable =\n",
              "          await google.colab.kernel.invokeFunction('convertToInteractive',\n",
              "                                                    [key], {});\n",
              "        if (!dataTable) return;\n",
              "\n",
              "        const docLinkHtml = 'Like what you see? Visit the ' +\n",
              "          '<a target=\"_blank\" href=https://colab.research.google.com/notebooks/data_table.ipynb>data table notebook</a>'\n",
              "          + ' to learn more about interactive tables.';\n",
              "        element.innerHTML = '';\n",
              "        dataTable['output_type'] = 'display_data';\n",
              "        await google.colab.output.renderOutput(dataTable, element);\n",
              "        const docLink = document.createElement('div');\n",
              "        docLink.innerHTML = docLinkHtml;\n",
              "        element.appendChild(docLink);\n",
              "      }\n",
              "    </script>\n",
              "  </div>\n",
              "\n",
              "\n",
              "<div id=\"df-1063e6dc-c49e-49df-9e18-43942b294fec\">\n",
              "  <button class=\"colab-df-quickchart\" onclick=\"quickchart('df-1063e6dc-c49e-49df-9e18-43942b294fec')\"\n",
              "            title=\"Suggest charts.\"\n",
              "            style=\"display:none;\">\n",
              "\n",
              "<svg xmlns=\"http://www.w3.org/2000/svg\" height=\"24px\"viewBox=\"0 0 24 24\"\n",
              "     width=\"24px\">\n",
              "    <g>\n",
              "        <path d=\"M19 3H5c-1.1 0-2 .9-2 2v14c0 1.1.9 2 2 2h14c1.1 0 2-.9 2-2V5c0-1.1-.9-2-2-2zM9 17H7v-7h2v7zm4 0h-2V7h2v10zm4 0h-2v-4h2v4z\"/>\n",
              "    </g>\n",
              "</svg>\n",
              "  </button>\n",
              "\n",
              "<style>\n",
              "  .colab-df-quickchart {\n",
              "      --bg-color: #E8F0FE;\n",
              "      --fill-color: #1967D2;\n",
              "      --hover-bg-color: #E2EBFA;\n",
              "      --hover-fill-color: #174EA6;\n",
              "      --disabled-fill-color: #AAA;\n",
              "      --disabled-bg-color: #DDD;\n",
              "  }\n",
              "\n",
              "  [theme=dark] .colab-df-quickchart {\n",
              "      --bg-color: #3B4455;\n",
              "      --fill-color: #D2E3FC;\n",
              "      --hover-bg-color: #434B5C;\n",
              "      --hover-fill-color: #FFFFFF;\n",
              "      --disabled-bg-color: #3B4455;\n",
              "      --disabled-fill-color: #666;\n",
              "  }\n",
              "\n",
              "  .colab-df-quickchart {\n",
              "    background-color: var(--bg-color);\n",
              "    border: none;\n",
              "    border-radius: 50%;\n",
              "    cursor: pointer;\n",
              "    display: none;\n",
              "    fill: var(--fill-color);\n",
              "    height: 32px;\n",
              "    padding: 0;\n",
              "    width: 32px;\n",
              "  }\n",
              "\n",
              "  .colab-df-quickchart:hover {\n",
              "    background-color: var(--hover-bg-color);\n",
              "    box-shadow: 0 1px 2px rgba(60, 64, 67, 0.3), 0 1px 3px 1px rgba(60, 64, 67, 0.15);\n",
              "    fill: var(--button-hover-fill-color);\n",
              "  }\n",
              "\n",
              "  .colab-df-quickchart-complete:disabled,\n",
              "  .colab-df-quickchart-complete:disabled:hover {\n",
              "    background-color: var(--disabled-bg-color);\n",
              "    fill: var(--disabled-fill-color);\n",
              "    box-shadow: none;\n",
              "  }\n",
              "\n",
              "  .colab-df-spinner {\n",
              "    border: 2px solid var(--fill-color);\n",
              "    border-color: transparent;\n",
              "    border-bottom-color: var(--fill-color);\n",
              "    animation:\n",
              "      spin 1s steps(1) infinite;\n",
              "  }\n",
              "\n",
              "  @keyframes spin {\n",
              "    0% {\n",
              "      border-color: transparent;\n",
              "      border-bottom-color: var(--fill-color);\n",
              "      border-left-color: var(--fill-color);\n",
              "    }\n",
              "    20% {\n",
              "      border-color: transparent;\n",
              "      border-left-color: var(--fill-color);\n",
              "      border-top-color: var(--fill-color);\n",
              "    }\n",
              "    30% {\n",
              "      border-color: transparent;\n",
              "      border-left-color: var(--fill-color);\n",
              "      border-top-color: var(--fill-color);\n",
              "      border-right-color: var(--fill-color);\n",
              "    }\n",
              "    40% {\n",
              "      border-color: transparent;\n",
              "      border-right-color: var(--fill-color);\n",
              "      border-top-color: var(--fill-color);\n",
              "    }\n",
              "    60% {\n",
              "      border-color: transparent;\n",
              "      border-right-color: var(--fill-color);\n",
              "    }\n",
              "    80% {\n",
              "      border-color: transparent;\n",
              "      border-right-color: var(--fill-color);\n",
              "      border-bottom-color: var(--fill-color);\n",
              "    }\n",
              "    90% {\n",
              "      border-color: transparent;\n",
              "      border-bottom-color: var(--fill-color);\n",
              "    }\n",
              "  }\n",
              "</style>\n",
              "\n",
              "  <script>\n",
              "    async function quickchart(key) {\n",
              "      const quickchartButtonEl =\n",
              "        document.querySelector('#' + key + ' button');\n",
              "      quickchartButtonEl.disabled = true;  // To prevent multiple clicks.\n",
              "      quickchartButtonEl.classList.add('colab-df-spinner');\n",
              "      try {\n",
              "        const charts = await google.colab.kernel.invokeFunction(\n",
              "            'suggestCharts', [key], {});\n",
              "      } catch (error) {\n",
              "        console.error('Error during call to suggestCharts:', error);\n",
              "      }\n",
              "      quickchartButtonEl.classList.remove('colab-df-spinner');\n",
              "      quickchartButtonEl.classList.add('colab-df-quickchart-complete');\n",
              "    }\n",
              "    (() => {\n",
              "      let quickchartButtonEl =\n",
              "        document.querySelector('#df-1063e6dc-c49e-49df-9e18-43942b294fec button');\n",
              "      quickchartButtonEl.style.display =\n",
              "        google.colab.kernel.accessAllowed ? 'block' : 'none';\n",
              "    })();\n",
              "  </script>\n",
              "</div>\n",
              "    </div>\n",
              "  </div>\n"
            ]
          },
          "metadata": {},
          "execution_count": 29
        }
      ],
      "source": [
        "df.head()"
      ]
    },
    {
      "cell_type": "markdown",
      "id": "946f31a9",
      "metadata": {
        "papermill": {
          "duration": 0.016399,
          "end_time": "2023-09-06T06:56:06.476606",
          "exception": false,
          "start_time": "2023-09-06T06:56:06.460207",
          "status": "completed"
        },
        "tags": [],
        "id": "946f31a9"
      },
      "source": [
        "#### Price Column"
      ]
    },
    {
      "cell_type": "code",
      "execution_count": 30,
      "id": "e585fd03",
      "metadata": {
        "execution": {
          "iopub.execute_input": "2023-09-06T06:56:06.511511Z",
          "iopub.status.busy": "2023-09-06T06:56:06.511108Z",
          "iopub.status.idle": "2023-09-06T06:56:06.522999Z",
          "shell.execute_reply": "2023-09-06T06:56:06.521690Z"
        },
        "papermill": {
          "duration": 0.032106,
          "end_time": "2023-09-06T06:56:06.525475",
          "exception": false,
          "start_time": "2023-09-06T06:56:06.493369",
          "status": "completed"
        },
        "tags": [],
        "id": "e585fd03"
      },
      "outputs": [],
      "source": [
        "df[\"Price\"] = df[\"Price\"].str.replace(\",\",\"\")\n"
      ]
    },
    {
      "cell_type": "code",
      "execution_count": 31,
      "id": "2b494fbf",
      "metadata": {
        "execution": {
          "iopub.execute_input": "2023-09-06T06:56:06.561630Z",
          "iopub.status.busy": "2023-09-06T06:56:06.561020Z",
          "iopub.status.idle": "2023-09-06T06:56:06.581075Z",
          "shell.execute_reply": "2023-09-06T06:56:06.579998Z"
        },
        "papermill": {
          "duration": 0.040656,
          "end_time": "2023-09-06T06:56:06.583700",
          "exception": false,
          "start_time": "2023-09-06T06:56:06.543044",
          "status": "completed"
        },
        "tags": [],
        "id": "2b494fbf"
      },
      "outputs": [],
      "source": [
        "df = df.astype({\"Price\":\"int\"})\n"
      ]
    },
    {
      "cell_type": "markdown",
      "id": "212d0990",
      "metadata": {
        "papermill": {
          "duration": 0.016985,
          "end_time": "2023-09-06T06:56:06.618741",
          "exception": false,
          "start_time": "2023-09-06T06:56:06.601756",
          "status": "completed"
        },
        "tags": [],
        "id": "212d0990"
      },
      "source": [
        "#### DepartingTime"
      ]
    },
    {
      "cell_type": "code",
      "execution_count": 32,
      "id": "335041b4",
      "metadata": {
        "execution": {
          "iopub.execute_input": "2023-09-06T06:56:06.654837Z",
          "iopub.status.busy": "2023-09-06T06:56:06.653803Z",
          "iopub.status.idle": "2023-09-06T06:56:06.666781Z",
          "shell.execute_reply": "2023-09-06T06:56:06.665702Z"
        },
        "papermill": {
          "duration": 0.033215,
          "end_time": "2023-09-06T06:56:06.669232",
          "exception": false,
          "start_time": "2023-09-06T06:56:06.636017",
          "status": "completed"
        },
        "tags": [],
        "id": "335041b4"
      },
      "outputs": [],
      "source": [
        "df[\"DepartingHour\"] = df[\"DepartingTime\"].str.split(\":\").str[0]\n"
      ]
    },
    {
      "cell_type": "code",
      "execution_count": 33,
      "id": "cb87b48b",
      "metadata": {
        "execution": {
          "iopub.execute_input": "2023-09-06T06:56:06.706904Z",
          "iopub.status.busy": "2023-09-06T06:56:06.706543Z",
          "iopub.status.idle": "2023-09-06T06:56:06.721575Z",
          "shell.execute_reply": "2023-09-06T06:56:06.720392Z"
        },
        "papermill": {
          "duration": 0.036525,
          "end_time": "2023-09-06T06:56:06.723925",
          "exception": false,
          "start_time": "2023-09-06T06:56:06.687400",
          "status": "completed"
        },
        "tags": [],
        "id": "cb87b48b"
      },
      "outputs": [],
      "source": [
        "df = df.astype({\"DepartingHour\":\"int\"})\n"
      ]
    },
    {
      "cell_type": "code",
      "execution_count": 34,
      "id": "300ded85",
      "metadata": {
        "execution": {
          "iopub.execute_input": "2023-09-06T06:56:06.759326Z",
          "iopub.status.busy": "2023-09-06T06:56:06.758935Z",
          "iopub.status.idle": "2023-09-06T06:56:06.777341Z",
          "shell.execute_reply": "2023-09-06T06:56:06.776213Z"
        },
        "papermill": {
          "duration": 0.0389,
          "end_time": "2023-09-06T06:56:06.779683",
          "exception": false,
          "start_time": "2023-09-06T06:56:06.740783",
          "status": "completed"
        },
        "tags": [],
        "colab": {
          "base_uri": "https://localhost:8080/"
        },
        "id": "300ded85",
        "outputId": "2b3745a9-4e75-4607-b876-c7a5f35f34bf"
      },
      "outputs": [
        {
          "output_type": "stream",
          "name": "stdout",
          "text": [
            "<class 'pandas.core.frame.DataFrame'>\n",
            "RangeIndex: 90 entries, 0 to 89\n",
            "Data columns (total 9 columns):\n",
            " #   Column         Non-Null Count  Dtype \n",
            "---  ------         --------------  ----- \n",
            " 0   FlightName     90 non-null     object\n",
            " 1   FlightCode     90 non-null     object\n",
            " 2   DepartingCity  90 non-null     object\n",
            " 3   DepartingTime  90 non-null     object\n",
            " 4   ArrivingCity   90 non-null     object\n",
            " 5   ArrivingTime   90 non-null     object\n",
            " 6   Duration       90 non-null     object\n",
            " 7   Price          90 non-null     int64 \n",
            " 8   DepartingHour  90 non-null     int64 \n",
            "dtypes: int64(2), object(7)\n",
            "memory usage: 6.5+ KB\n"
          ]
        }
      ],
      "source": [
        "df.info()"
      ]
    },
    {
      "cell_type": "code",
      "source": [
        "df.describe()"
      ],
      "metadata": {
        "colab": {
          "base_uri": "https://localhost:8080/",
          "height": 300
        },
        "id": "YaqsY2Dq3c0u",
        "outputId": "77e7b907-7246-4785-e9f7-892863d72dc4"
      },
      "id": "YaqsY2Dq3c0u",
      "execution_count": 35,
      "outputs": [
        {
          "output_type": "execute_result",
          "data": {
            "text/plain": [
              "              Price  DepartingHour\n",
              "count     90.000000      90.000000\n",
              "mean    6186.188889      12.466667\n",
              "std     3700.212280       6.515668\n",
              "min     2307.000000       0.000000\n",
              "25%     3900.000000       7.000000\n",
              "50%     4621.000000      12.000000\n",
              "75%     6721.000000      18.750000\n",
              "max    20581.000000      23.000000"
            ],
            "text/html": [
              "\n",
              "  <div id=\"df-6134b8aa-68d8-47a2-94c6-91ccbd73b034\" class=\"colab-df-container\">\n",
              "    <div>\n",
              "<style scoped>\n",
              "    .dataframe tbody tr th:only-of-type {\n",
              "        vertical-align: middle;\n",
              "    }\n",
              "\n",
              "    .dataframe tbody tr th {\n",
              "        vertical-align: top;\n",
              "    }\n",
              "\n",
              "    .dataframe thead th {\n",
              "        text-align: right;\n",
              "    }\n",
              "</style>\n",
              "<table border=\"1\" class=\"dataframe\">\n",
              "  <thead>\n",
              "    <tr style=\"text-align: right;\">\n",
              "      <th></th>\n",
              "      <th>Price</th>\n",
              "      <th>DepartingHour</th>\n",
              "    </tr>\n",
              "  </thead>\n",
              "  <tbody>\n",
              "    <tr>\n",
              "      <th>count</th>\n",
              "      <td>90.000000</td>\n",
              "      <td>90.000000</td>\n",
              "    </tr>\n",
              "    <tr>\n",
              "      <th>mean</th>\n",
              "      <td>6186.188889</td>\n",
              "      <td>12.466667</td>\n",
              "    </tr>\n",
              "    <tr>\n",
              "      <th>std</th>\n",
              "      <td>3700.212280</td>\n",
              "      <td>6.515668</td>\n",
              "    </tr>\n",
              "    <tr>\n",
              "      <th>min</th>\n",
              "      <td>2307.000000</td>\n",
              "      <td>0.000000</td>\n",
              "    </tr>\n",
              "    <tr>\n",
              "      <th>25%</th>\n",
              "      <td>3900.000000</td>\n",
              "      <td>7.000000</td>\n",
              "    </tr>\n",
              "    <tr>\n",
              "      <th>50%</th>\n",
              "      <td>4621.000000</td>\n",
              "      <td>12.000000</td>\n",
              "    </tr>\n",
              "    <tr>\n",
              "      <th>75%</th>\n",
              "      <td>6721.000000</td>\n",
              "      <td>18.750000</td>\n",
              "    </tr>\n",
              "    <tr>\n",
              "      <th>max</th>\n",
              "      <td>20581.000000</td>\n",
              "      <td>23.000000</td>\n",
              "    </tr>\n",
              "  </tbody>\n",
              "</table>\n",
              "</div>\n",
              "    <div class=\"colab-df-buttons\">\n",
              "\n",
              "  <div class=\"colab-df-container\">\n",
              "    <button class=\"colab-df-convert\" onclick=\"convertToInteractive('df-6134b8aa-68d8-47a2-94c6-91ccbd73b034')\"\n",
              "            title=\"Convert this dataframe to an interactive table.\"\n",
              "            style=\"display:none;\">\n",
              "\n",
              "  <svg xmlns=\"http://www.w3.org/2000/svg\" height=\"24px\" viewBox=\"0 -960 960 960\">\n",
              "    <path d=\"M120-120v-720h720v720H120Zm60-500h600v-160H180v160Zm220 220h160v-160H400v160Zm0 220h160v-160H400v160ZM180-400h160v-160H180v160Zm440 0h160v-160H620v160ZM180-180h160v-160H180v160Zm440 0h160v-160H620v160Z\"/>\n",
              "  </svg>\n",
              "    </button>\n",
              "\n",
              "  <style>\n",
              "    .colab-df-container {\n",
              "      display:flex;\n",
              "      gap: 12px;\n",
              "    }\n",
              "\n",
              "    .colab-df-convert {\n",
              "      background-color: #E8F0FE;\n",
              "      border: none;\n",
              "      border-radius: 50%;\n",
              "      cursor: pointer;\n",
              "      display: none;\n",
              "      fill: #1967D2;\n",
              "      height: 32px;\n",
              "      padding: 0 0 0 0;\n",
              "      width: 32px;\n",
              "    }\n",
              "\n",
              "    .colab-df-convert:hover {\n",
              "      background-color: #E2EBFA;\n",
              "      box-shadow: 0px 1px 2px rgba(60, 64, 67, 0.3), 0px 1px 3px 1px rgba(60, 64, 67, 0.15);\n",
              "      fill: #174EA6;\n",
              "    }\n",
              "\n",
              "    .colab-df-buttons div {\n",
              "      margin-bottom: 4px;\n",
              "    }\n",
              "\n",
              "    [theme=dark] .colab-df-convert {\n",
              "      background-color: #3B4455;\n",
              "      fill: #D2E3FC;\n",
              "    }\n",
              "\n",
              "    [theme=dark] .colab-df-convert:hover {\n",
              "      background-color: #434B5C;\n",
              "      box-shadow: 0px 1px 3px 1px rgba(0, 0, 0, 0.15);\n",
              "      filter: drop-shadow(0px 1px 2px rgba(0, 0, 0, 0.3));\n",
              "      fill: #FFFFFF;\n",
              "    }\n",
              "  </style>\n",
              "\n",
              "    <script>\n",
              "      const buttonEl =\n",
              "        document.querySelector('#df-6134b8aa-68d8-47a2-94c6-91ccbd73b034 button.colab-df-convert');\n",
              "      buttonEl.style.display =\n",
              "        google.colab.kernel.accessAllowed ? 'block' : 'none';\n",
              "\n",
              "      async function convertToInteractive(key) {\n",
              "        const element = document.querySelector('#df-6134b8aa-68d8-47a2-94c6-91ccbd73b034');\n",
              "        const dataTable =\n",
              "          await google.colab.kernel.invokeFunction('convertToInteractive',\n",
              "                                                    [key], {});\n",
              "        if (!dataTable) return;\n",
              "\n",
              "        const docLinkHtml = 'Like what you see? Visit the ' +\n",
              "          '<a target=\"_blank\" href=https://colab.research.google.com/notebooks/data_table.ipynb>data table notebook</a>'\n",
              "          + ' to learn more about interactive tables.';\n",
              "        element.innerHTML = '';\n",
              "        dataTable['output_type'] = 'display_data';\n",
              "        await google.colab.output.renderOutput(dataTable, element);\n",
              "        const docLink = document.createElement('div');\n",
              "        docLink.innerHTML = docLinkHtml;\n",
              "        element.appendChild(docLink);\n",
              "      }\n",
              "    </script>\n",
              "  </div>\n",
              "\n",
              "\n",
              "<div id=\"df-61fbabd7-205b-4d2b-9038-5eb5ea833df2\">\n",
              "  <button class=\"colab-df-quickchart\" onclick=\"quickchart('df-61fbabd7-205b-4d2b-9038-5eb5ea833df2')\"\n",
              "            title=\"Suggest charts.\"\n",
              "            style=\"display:none;\">\n",
              "\n",
              "<svg xmlns=\"http://www.w3.org/2000/svg\" height=\"24px\"viewBox=\"0 0 24 24\"\n",
              "     width=\"24px\">\n",
              "    <g>\n",
              "        <path d=\"M19 3H5c-1.1 0-2 .9-2 2v14c0 1.1.9 2 2 2h14c1.1 0 2-.9 2-2V5c0-1.1-.9-2-2-2zM9 17H7v-7h2v7zm4 0h-2V7h2v10zm4 0h-2v-4h2v4z\"/>\n",
              "    </g>\n",
              "</svg>\n",
              "  </button>\n",
              "\n",
              "<style>\n",
              "  .colab-df-quickchart {\n",
              "      --bg-color: #E8F0FE;\n",
              "      --fill-color: #1967D2;\n",
              "      --hover-bg-color: #E2EBFA;\n",
              "      --hover-fill-color: #174EA6;\n",
              "      --disabled-fill-color: #AAA;\n",
              "      --disabled-bg-color: #DDD;\n",
              "  }\n",
              "\n",
              "  [theme=dark] .colab-df-quickchart {\n",
              "      --bg-color: #3B4455;\n",
              "      --fill-color: #D2E3FC;\n",
              "      --hover-bg-color: #434B5C;\n",
              "      --hover-fill-color: #FFFFFF;\n",
              "      --disabled-bg-color: #3B4455;\n",
              "      --disabled-fill-color: #666;\n",
              "  }\n",
              "\n",
              "  .colab-df-quickchart {\n",
              "    background-color: var(--bg-color);\n",
              "    border: none;\n",
              "    border-radius: 50%;\n",
              "    cursor: pointer;\n",
              "    display: none;\n",
              "    fill: var(--fill-color);\n",
              "    height: 32px;\n",
              "    padding: 0;\n",
              "    width: 32px;\n",
              "  }\n",
              "\n",
              "  .colab-df-quickchart:hover {\n",
              "    background-color: var(--hover-bg-color);\n",
              "    box-shadow: 0 1px 2px rgba(60, 64, 67, 0.3), 0 1px 3px 1px rgba(60, 64, 67, 0.15);\n",
              "    fill: var(--button-hover-fill-color);\n",
              "  }\n",
              "\n",
              "  .colab-df-quickchart-complete:disabled,\n",
              "  .colab-df-quickchart-complete:disabled:hover {\n",
              "    background-color: var(--disabled-bg-color);\n",
              "    fill: var(--disabled-fill-color);\n",
              "    box-shadow: none;\n",
              "  }\n",
              "\n",
              "  .colab-df-spinner {\n",
              "    border: 2px solid var(--fill-color);\n",
              "    border-color: transparent;\n",
              "    border-bottom-color: var(--fill-color);\n",
              "    animation:\n",
              "      spin 1s steps(1) infinite;\n",
              "  }\n",
              "\n",
              "  @keyframes spin {\n",
              "    0% {\n",
              "      border-color: transparent;\n",
              "      border-bottom-color: var(--fill-color);\n",
              "      border-left-color: var(--fill-color);\n",
              "    }\n",
              "    20% {\n",
              "      border-color: transparent;\n",
              "      border-left-color: var(--fill-color);\n",
              "      border-top-color: var(--fill-color);\n",
              "    }\n",
              "    30% {\n",
              "      border-color: transparent;\n",
              "      border-left-color: var(--fill-color);\n",
              "      border-top-color: var(--fill-color);\n",
              "      border-right-color: var(--fill-color);\n",
              "    }\n",
              "    40% {\n",
              "      border-color: transparent;\n",
              "      border-right-color: var(--fill-color);\n",
              "      border-top-color: var(--fill-color);\n",
              "    }\n",
              "    60% {\n",
              "      border-color: transparent;\n",
              "      border-right-color: var(--fill-color);\n",
              "    }\n",
              "    80% {\n",
              "      border-color: transparent;\n",
              "      border-right-color: var(--fill-color);\n",
              "      border-bottom-color: var(--fill-color);\n",
              "    }\n",
              "    90% {\n",
              "      border-color: transparent;\n",
              "      border-bottom-color: var(--fill-color);\n",
              "    }\n",
              "  }\n",
              "</style>\n",
              "\n",
              "  <script>\n",
              "    async function quickchart(key) {\n",
              "      const quickchartButtonEl =\n",
              "        document.querySelector('#' + key + ' button');\n",
              "      quickchartButtonEl.disabled = true;  // To prevent multiple clicks.\n",
              "      quickchartButtonEl.classList.add('colab-df-spinner');\n",
              "      try {\n",
              "        const charts = await google.colab.kernel.invokeFunction(\n",
              "            'suggestCharts', [key], {});\n",
              "      } catch (error) {\n",
              "        console.error('Error during call to suggestCharts:', error);\n",
              "      }\n",
              "      quickchartButtonEl.classList.remove('colab-df-spinner');\n",
              "      quickchartButtonEl.classList.add('colab-df-quickchart-complete');\n",
              "    }\n",
              "    (() => {\n",
              "      let quickchartButtonEl =\n",
              "        document.querySelector('#df-61fbabd7-205b-4d2b-9038-5eb5ea833df2 button');\n",
              "      quickchartButtonEl.style.display =\n",
              "        google.colab.kernel.accessAllowed ? 'block' : 'none';\n",
              "    })();\n",
              "  </script>\n",
              "</div>\n",
              "    </div>\n",
              "  </div>\n"
            ]
          },
          "metadata": {},
          "execution_count": 35
        }
      ]
    },
    {
      "cell_type": "code",
      "source": [
        "df.isnull().sum()"
      ],
      "metadata": {
        "colab": {
          "base_uri": "https://localhost:8080/"
        },
        "id": "xYhVLS-Q3gR7",
        "outputId": "7f82d193-423b-4b08-e190-2ea4e5b27cc2"
      },
      "id": "xYhVLS-Q3gR7",
      "execution_count": 36,
      "outputs": [
        {
          "output_type": "execute_result",
          "data": {
            "text/plain": [
              "FlightName       0\n",
              "FlightCode       0\n",
              "DepartingCity    0\n",
              "DepartingTime    0\n",
              "ArrivingCity     0\n",
              "ArrivingTime     0\n",
              "Duration         0\n",
              "Price            0\n",
              "DepartingHour    0\n",
              "dtype: int64"
            ]
          },
          "metadata": {},
          "execution_count": 36
        }
      ]
    },
    {
      "cell_type": "code",
      "source": [
        "df"
      ],
      "metadata": {
        "colab": {
          "base_uri": "https://localhost:8080/",
          "height": 424
        },
        "id": "tarjLUGn3mCl",
        "outputId": "d0f168d6-6538-4e94-88e8-24f3f0880038"
      },
      "id": "tarjLUGn3mCl",
      "execution_count": 37,
      "outputs": [
        {
          "output_type": "execute_result",
          "data": {
            "text/plain": [
              "   FlightName FlightCode DepartingCity DepartingTime ArrivingCity  \\\n",
              "0   Air India     AI 621        Mumbai         03:55    Bengaluru   \n",
              "1     AirAsia     I5 670        Mumbai         19:55    Bengaluru   \n",
              "2     AirAsia    I5 2992        Mumbai         23:55    Bengaluru   \n",
              "3      IndiGo    6E 5388        Mumbai         21:30    Bengaluru   \n",
              "4   Akasa Air    QP 1103        Mumbai         00:45    Bengaluru   \n",
              "..        ...        ...           ...           ...          ...   \n",
              "85    Vistara     UK 840     Bengaluru         21:35       Mumbai   \n",
              "86    Vistara     UK 850     Bengaluru         19:55       Mumbai   \n",
              "87    Vistara     UK 864     Bengaluru         19:00       Mumbai   \n",
              "88    Vistara     UK 864     Bengaluru         19:00       Mumbai   \n",
              "89  Air India     AI 642     Bengaluru         21:25       Mumbai   \n",
              "\n",
              "        ArrivingTime   Duration  Price  DepartingHour  \n",
              "0              05:50  01 h 55 m   2307              3  \n",
              "1              21:45  01 h 50 m   2773             19  \n",
              "2   01:45\\r\\n+ 1 DAY  01 h 50 m   2773             23  \n",
              "3              23:15  01 h 45 m   2839             21  \n",
              "4              02:20  01 h 35 m   3005              0  \n",
              "..               ...        ...    ...            ...  \n",
              "85             23:20  01 h 45 m  11038             21  \n",
              "86             21:35  01 h 40 m  11934             19  \n",
              "87             20:35  01 h 35 m  14596             19  \n",
              "88             20:35  01 h 35 m  14596             19  \n",
              "89             23:20  01 h 55 m  20581             21  \n",
              "\n",
              "[90 rows x 9 columns]"
            ],
            "text/html": [
              "\n",
              "  <div id=\"df-678093fa-792f-468f-a580-b103c712021c\" class=\"colab-df-container\">\n",
              "    <div>\n",
              "<style scoped>\n",
              "    .dataframe tbody tr th:only-of-type {\n",
              "        vertical-align: middle;\n",
              "    }\n",
              "\n",
              "    .dataframe tbody tr th {\n",
              "        vertical-align: top;\n",
              "    }\n",
              "\n",
              "    .dataframe thead th {\n",
              "        text-align: right;\n",
              "    }\n",
              "</style>\n",
              "<table border=\"1\" class=\"dataframe\">\n",
              "  <thead>\n",
              "    <tr style=\"text-align: right;\">\n",
              "      <th></th>\n",
              "      <th>FlightName</th>\n",
              "      <th>FlightCode</th>\n",
              "      <th>DepartingCity</th>\n",
              "      <th>DepartingTime</th>\n",
              "      <th>ArrivingCity</th>\n",
              "      <th>ArrivingTime</th>\n",
              "      <th>Duration</th>\n",
              "      <th>Price</th>\n",
              "      <th>DepartingHour</th>\n",
              "    </tr>\n",
              "  </thead>\n",
              "  <tbody>\n",
              "    <tr>\n",
              "      <th>0</th>\n",
              "      <td>Air India</td>\n",
              "      <td>AI 621</td>\n",
              "      <td>Mumbai</td>\n",
              "      <td>03:55</td>\n",
              "      <td>Bengaluru</td>\n",
              "      <td>05:50</td>\n",
              "      <td>01 h 55 m</td>\n",
              "      <td>2307</td>\n",
              "      <td>3</td>\n",
              "    </tr>\n",
              "    <tr>\n",
              "      <th>1</th>\n",
              "      <td>AirAsia</td>\n",
              "      <td>I5 670</td>\n",
              "      <td>Mumbai</td>\n",
              "      <td>19:55</td>\n",
              "      <td>Bengaluru</td>\n",
              "      <td>21:45</td>\n",
              "      <td>01 h 50 m</td>\n",
              "      <td>2773</td>\n",
              "      <td>19</td>\n",
              "    </tr>\n",
              "    <tr>\n",
              "      <th>2</th>\n",
              "      <td>AirAsia</td>\n",
              "      <td>I5 2992</td>\n",
              "      <td>Mumbai</td>\n",
              "      <td>23:55</td>\n",
              "      <td>Bengaluru</td>\n",
              "      <td>01:45\\r\\n+ 1 DAY</td>\n",
              "      <td>01 h 50 m</td>\n",
              "      <td>2773</td>\n",
              "      <td>23</td>\n",
              "    </tr>\n",
              "    <tr>\n",
              "      <th>3</th>\n",
              "      <td>IndiGo</td>\n",
              "      <td>6E 5388</td>\n",
              "      <td>Mumbai</td>\n",
              "      <td>21:30</td>\n",
              "      <td>Bengaluru</td>\n",
              "      <td>23:15</td>\n",
              "      <td>01 h 45 m</td>\n",
              "      <td>2839</td>\n",
              "      <td>21</td>\n",
              "    </tr>\n",
              "    <tr>\n",
              "      <th>4</th>\n",
              "      <td>Akasa Air</td>\n",
              "      <td>QP 1103</td>\n",
              "      <td>Mumbai</td>\n",
              "      <td>00:45</td>\n",
              "      <td>Bengaluru</td>\n",
              "      <td>02:20</td>\n",
              "      <td>01 h 35 m</td>\n",
              "      <td>3005</td>\n",
              "      <td>0</td>\n",
              "    </tr>\n",
              "    <tr>\n",
              "      <th>...</th>\n",
              "      <td>...</td>\n",
              "      <td>...</td>\n",
              "      <td>...</td>\n",
              "      <td>...</td>\n",
              "      <td>...</td>\n",
              "      <td>...</td>\n",
              "      <td>...</td>\n",
              "      <td>...</td>\n",
              "      <td>...</td>\n",
              "    </tr>\n",
              "    <tr>\n",
              "      <th>85</th>\n",
              "      <td>Vistara</td>\n",
              "      <td>UK 840</td>\n",
              "      <td>Bengaluru</td>\n",
              "      <td>21:35</td>\n",
              "      <td>Mumbai</td>\n",
              "      <td>23:20</td>\n",
              "      <td>01 h 45 m</td>\n",
              "      <td>11038</td>\n",
              "      <td>21</td>\n",
              "    </tr>\n",
              "    <tr>\n",
              "      <th>86</th>\n",
              "      <td>Vistara</td>\n",
              "      <td>UK 850</td>\n",
              "      <td>Bengaluru</td>\n",
              "      <td>19:55</td>\n",
              "      <td>Mumbai</td>\n",
              "      <td>21:35</td>\n",
              "      <td>01 h 40 m</td>\n",
              "      <td>11934</td>\n",
              "      <td>19</td>\n",
              "    </tr>\n",
              "    <tr>\n",
              "      <th>87</th>\n",
              "      <td>Vistara</td>\n",
              "      <td>UK 864</td>\n",
              "      <td>Bengaluru</td>\n",
              "      <td>19:00</td>\n",
              "      <td>Mumbai</td>\n",
              "      <td>20:35</td>\n",
              "      <td>01 h 35 m</td>\n",
              "      <td>14596</td>\n",
              "      <td>19</td>\n",
              "    </tr>\n",
              "    <tr>\n",
              "      <th>88</th>\n",
              "      <td>Vistara</td>\n",
              "      <td>UK 864</td>\n",
              "      <td>Bengaluru</td>\n",
              "      <td>19:00</td>\n",
              "      <td>Mumbai</td>\n",
              "      <td>20:35</td>\n",
              "      <td>01 h 35 m</td>\n",
              "      <td>14596</td>\n",
              "      <td>19</td>\n",
              "    </tr>\n",
              "    <tr>\n",
              "      <th>89</th>\n",
              "      <td>Air India</td>\n",
              "      <td>AI 642</td>\n",
              "      <td>Bengaluru</td>\n",
              "      <td>21:25</td>\n",
              "      <td>Mumbai</td>\n",
              "      <td>23:20</td>\n",
              "      <td>01 h 55 m</td>\n",
              "      <td>20581</td>\n",
              "      <td>21</td>\n",
              "    </tr>\n",
              "  </tbody>\n",
              "</table>\n",
              "<p>90 rows × 9 columns</p>\n",
              "</div>\n",
              "    <div class=\"colab-df-buttons\">\n",
              "\n",
              "  <div class=\"colab-df-container\">\n",
              "    <button class=\"colab-df-convert\" onclick=\"convertToInteractive('df-678093fa-792f-468f-a580-b103c712021c')\"\n",
              "            title=\"Convert this dataframe to an interactive table.\"\n",
              "            style=\"display:none;\">\n",
              "\n",
              "  <svg xmlns=\"http://www.w3.org/2000/svg\" height=\"24px\" viewBox=\"0 -960 960 960\">\n",
              "    <path d=\"M120-120v-720h720v720H120Zm60-500h600v-160H180v160Zm220 220h160v-160H400v160Zm0 220h160v-160H400v160ZM180-400h160v-160H180v160Zm440 0h160v-160H620v160ZM180-180h160v-160H180v160Zm440 0h160v-160H620v160Z\"/>\n",
              "  </svg>\n",
              "    </button>\n",
              "\n",
              "  <style>\n",
              "    .colab-df-container {\n",
              "      display:flex;\n",
              "      gap: 12px;\n",
              "    }\n",
              "\n",
              "    .colab-df-convert {\n",
              "      background-color: #E8F0FE;\n",
              "      border: none;\n",
              "      border-radius: 50%;\n",
              "      cursor: pointer;\n",
              "      display: none;\n",
              "      fill: #1967D2;\n",
              "      height: 32px;\n",
              "      padding: 0 0 0 0;\n",
              "      width: 32px;\n",
              "    }\n",
              "\n",
              "    .colab-df-convert:hover {\n",
              "      background-color: #E2EBFA;\n",
              "      box-shadow: 0px 1px 2px rgba(60, 64, 67, 0.3), 0px 1px 3px 1px rgba(60, 64, 67, 0.15);\n",
              "      fill: #174EA6;\n",
              "    }\n",
              "\n",
              "    .colab-df-buttons div {\n",
              "      margin-bottom: 4px;\n",
              "    }\n",
              "\n",
              "    [theme=dark] .colab-df-convert {\n",
              "      background-color: #3B4455;\n",
              "      fill: #D2E3FC;\n",
              "    }\n",
              "\n",
              "    [theme=dark] .colab-df-convert:hover {\n",
              "      background-color: #434B5C;\n",
              "      box-shadow: 0px 1px 3px 1px rgba(0, 0, 0, 0.15);\n",
              "      filter: drop-shadow(0px 1px 2px rgba(0, 0, 0, 0.3));\n",
              "      fill: #FFFFFF;\n",
              "    }\n",
              "  </style>\n",
              "\n",
              "    <script>\n",
              "      const buttonEl =\n",
              "        document.querySelector('#df-678093fa-792f-468f-a580-b103c712021c button.colab-df-convert');\n",
              "      buttonEl.style.display =\n",
              "        google.colab.kernel.accessAllowed ? 'block' : 'none';\n",
              "\n",
              "      async function convertToInteractive(key) {\n",
              "        const element = document.querySelector('#df-678093fa-792f-468f-a580-b103c712021c');\n",
              "        const dataTable =\n",
              "          await google.colab.kernel.invokeFunction('convertToInteractive',\n",
              "                                                    [key], {});\n",
              "        if (!dataTable) return;\n",
              "\n",
              "        const docLinkHtml = 'Like what you see? Visit the ' +\n",
              "          '<a target=\"_blank\" href=https://colab.research.google.com/notebooks/data_table.ipynb>data table notebook</a>'\n",
              "          + ' to learn more about interactive tables.';\n",
              "        element.innerHTML = '';\n",
              "        dataTable['output_type'] = 'display_data';\n",
              "        await google.colab.output.renderOutput(dataTable, element);\n",
              "        const docLink = document.createElement('div');\n",
              "        docLink.innerHTML = docLinkHtml;\n",
              "        element.appendChild(docLink);\n",
              "      }\n",
              "    </script>\n",
              "  </div>\n",
              "\n",
              "\n",
              "<div id=\"df-3bcc75de-7914-4824-8290-51173d11c36a\">\n",
              "  <button class=\"colab-df-quickchart\" onclick=\"quickchart('df-3bcc75de-7914-4824-8290-51173d11c36a')\"\n",
              "            title=\"Suggest charts.\"\n",
              "            style=\"display:none;\">\n",
              "\n",
              "<svg xmlns=\"http://www.w3.org/2000/svg\" height=\"24px\"viewBox=\"0 0 24 24\"\n",
              "     width=\"24px\">\n",
              "    <g>\n",
              "        <path d=\"M19 3H5c-1.1 0-2 .9-2 2v14c0 1.1.9 2 2 2h14c1.1 0 2-.9 2-2V5c0-1.1-.9-2-2-2zM9 17H7v-7h2v7zm4 0h-2V7h2v10zm4 0h-2v-4h2v4z\"/>\n",
              "    </g>\n",
              "</svg>\n",
              "  </button>\n",
              "\n",
              "<style>\n",
              "  .colab-df-quickchart {\n",
              "      --bg-color: #E8F0FE;\n",
              "      --fill-color: #1967D2;\n",
              "      --hover-bg-color: #E2EBFA;\n",
              "      --hover-fill-color: #174EA6;\n",
              "      --disabled-fill-color: #AAA;\n",
              "      --disabled-bg-color: #DDD;\n",
              "  }\n",
              "\n",
              "  [theme=dark] .colab-df-quickchart {\n",
              "      --bg-color: #3B4455;\n",
              "      --fill-color: #D2E3FC;\n",
              "      --hover-bg-color: #434B5C;\n",
              "      --hover-fill-color: #FFFFFF;\n",
              "      --disabled-bg-color: #3B4455;\n",
              "      --disabled-fill-color: #666;\n",
              "  }\n",
              "\n",
              "  .colab-df-quickchart {\n",
              "    background-color: var(--bg-color);\n",
              "    border: none;\n",
              "    border-radius: 50%;\n",
              "    cursor: pointer;\n",
              "    display: none;\n",
              "    fill: var(--fill-color);\n",
              "    height: 32px;\n",
              "    padding: 0;\n",
              "    width: 32px;\n",
              "  }\n",
              "\n",
              "  .colab-df-quickchart:hover {\n",
              "    background-color: var(--hover-bg-color);\n",
              "    box-shadow: 0 1px 2px rgba(60, 64, 67, 0.3), 0 1px 3px 1px rgba(60, 64, 67, 0.15);\n",
              "    fill: var(--button-hover-fill-color);\n",
              "  }\n",
              "\n",
              "  .colab-df-quickchart-complete:disabled,\n",
              "  .colab-df-quickchart-complete:disabled:hover {\n",
              "    background-color: var(--disabled-bg-color);\n",
              "    fill: var(--disabled-fill-color);\n",
              "    box-shadow: none;\n",
              "  }\n",
              "\n",
              "  .colab-df-spinner {\n",
              "    border: 2px solid var(--fill-color);\n",
              "    border-color: transparent;\n",
              "    border-bottom-color: var(--fill-color);\n",
              "    animation:\n",
              "      spin 1s steps(1) infinite;\n",
              "  }\n",
              "\n",
              "  @keyframes spin {\n",
              "    0% {\n",
              "      border-color: transparent;\n",
              "      border-bottom-color: var(--fill-color);\n",
              "      border-left-color: var(--fill-color);\n",
              "    }\n",
              "    20% {\n",
              "      border-color: transparent;\n",
              "      border-left-color: var(--fill-color);\n",
              "      border-top-color: var(--fill-color);\n",
              "    }\n",
              "    30% {\n",
              "      border-color: transparent;\n",
              "      border-left-color: var(--fill-color);\n",
              "      border-top-color: var(--fill-color);\n",
              "      border-right-color: var(--fill-color);\n",
              "    }\n",
              "    40% {\n",
              "      border-color: transparent;\n",
              "      border-right-color: var(--fill-color);\n",
              "      border-top-color: var(--fill-color);\n",
              "    }\n",
              "    60% {\n",
              "      border-color: transparent;\n",
              "      border-right-color: var(--fill-color);\n",
              "    }\n",
              "    80% {\n",
              "      border-color: transparent;\n",
              "      border-right-color: var(--fill-color);\n",
              "      border-bottom-color: var(--fill-color);\n",
              "    }\n",
              "    90% {\n",
              "      border-color: transparent;\n",
              "      border-bottom-color: var(--fill-color);\n",
              "    }\n",
              "  }\n",
              "</style>\n",
              "\n",
              "  <script>\n",
              "    async function quickchart(key) {\n",
              "      const quickchartButtonEl =\n",
              "        document.querySelector('#' + key + ' button');\n",
              "      quickchartButtonEl.disabled = true;  // To prevent multiple clicks.\n",
              "      quickchartButtonEl.classList.add('colab-df-spinner');\n",
              "      try {\n",
              "        const charts = await google.colab.kernel.invokeFunction(\n",
              "            'suggestCharts', [key], {});\n",
              "      } catch (error) {\n",
              "        console.error('Error during call to suggestCharts:', error);\n",
              "      }\n",
              "      quickchartButtonEl.classList.remove('colab-df-spinner');\n",
              "      quickchartButtonEl.classList.add('colab-df-quickchart-complete');\n",
              "    }\n",
              "    (() => {\n",
              "      let quickchartButtonEl =\n",
              "        document.querySelector('#df-3bcc75de-7914-4824-8290-51173d11c36a button');\n",
              "      quickchartButtonEl.style.display =\n",
              "        google.colab.kernel.accessAllowed ? 'block' : 'none';\n",
              "    })();\n",
              "  </script>\n",
              "</div>\n",
              "    </div>\n",
              "  </div>\n"
            ]
          },
          "metadata": {},
          "execution_count": 37
        }
      ]
    },
    {
      "cell_type": "markdown",
      "id": "e039003f",
      "metadata": {
        "papermill": {
          "duration": 0.016955,
          "end_time": "2023-09-06T06:56:06.813989",
          "exception": false,
          "start_time": "2023-09-06T06:56:06.797034",
          "status": "completed"
        },
        "tags": [],
        "id": "e039003f"
      },
      "source": [
        "# Data Visualization"
      ]
    },
    {
      "cell_type": "markdown",
      "id": "e9e9b281",
      "metadata": {
        "papermill": {
          "duration": 0.016998,
          "end_time": "2023-09-06T06:56:06.848262",
          "exception": false,
          "start_time": "2023-09-06T06:56:06.831264",
          "status": "completed"
        },
        "tags": [],
        "id": "e9e9b281"
      },
      "source": [
        "#### Price Distribution"
      ]
    },
    {
      "cell_type": "code",
      "execution_count": 38,
      "id": "2ad1d971",
      "metadata": {
        "execution": {
          "iopub.execute_input": "2023-09-06T06:56:06.884134Z",
          "iopub.status.busy": "2023-09-06T06:56:06.883409Z",
          "iopub.status.idle": "2023-09-06T06:56:07.208770Z",
          "shell.execute_reply": "2023-09-06T06:56:07.207901Z"
        },
        "papermill": {
          "duration": 0.346407,
          "end_time": "2023-09-06T06:56:07.211427",
          "exception": false,
          "start_time": "2023-09-06T06:56:06.865020",
          "status": "completed"
        },
        "tags": [],
        "colab": {
          "base_uri": "https://localhost:8080/",
          "height": 683
        },
        "id": "2ad1d971",
        "outputId": "9473fd13-8e41-45c7-e289-dc76c66fee9b"
      },
      "outputs": [
        {
          "output_type": "display_data",
          "data": {
            "text/plain": [
              "<Figure size 2000x1000 with 1 Axes>"
            ],
            "image/png": "[encoded data removed]"
          },
          "metadata": {}
        }
      ],
      "source": [
        "plt.title(\"Mumbai-Bengaluru\")\n",
        "df[\"Price\"].plot(kind='hist',bins=20)\n",
        "plt.show()"
      ]
    },
    {
      "cell_type": "markdown",
      "id": "f0c5c58c",
      "metadata": {
        "papermill": {
          "duration": 0.018669,
          "end_time": "2023-09-06T06:56:08.561318",
          "exception": false,
          "start_time": "2023-09-06T06:56:08.542649",
          "status": "completed"
        },
        "tags": [],
        "id": "f0c5c58c"
      },
      "source": [
        "Most of the pricing is between 2000 and 5000."
      ]
    },
    {
      "cell_type": "markdown",
      "id": "0c2eda28",
      "metadata": {
        "papermill": {
          "duration": 0.018806,
          "end_time": "2023-09-06T06:56:08.598948",
          "exception": false,
          "start_time": "2023-09-06T06:56:08.580142",
          "status": "completed"
        },
        "tags": [],
        "id": "0c2eda28"
      },
      "source": [
        "#### Departing Hour Vs Price"
      ]
    },
    {
      "cell_type": "code",
      "execution_count": 39,
      "id": "92a8594d",
      "metadata": {
        "execution": {
          "iopub.execute_input": "2023-09-06T06:56:08.638996Z",
          "iopub.status.busy": "2023-09-06T06:56:08.638231Z",
          "iopub.status.idle": "2023-09-06T06:56:08.909610Z",
          "shell.execute_reply": "2023-09-06T06:56:08.908339Z"
        },
        "papermill": {
          "duration": 0.294232,
          "end_time": "2023-09-06T06:56:08.912186",
          "exception": false,
          "start_time": "2023-09-06T06:56:08.617954",
          "status": "completed"
        },
        "tags": [],
        "colab": {
          "base_uri": "https://localhost:8080/",
          "height": 686
        },
        "id": "92a8594d",
        "outputId": "aec92b28-ea17-4405-c63b-351d340691f2"
      },
      "outputs": [
        {
          "output_type": "execute_result",
          "data": {
            "text/plain": [
              "<Axes: xlabel='DepartingHour', ylabel='Price'>"
            ]
          },
          "metadata": {},
          "execution_count": 39
        },
        {
          "output_type": "display_data",
          "data": {
            "text/plain": [
              "<Figure size 2000x1000 with 1 Axes>"
            ],
            "image/png": "[encoded data removed]"
          },
          "metadata": {}
        }
      ],
      "source": [
        "df.plot.scatter(x='DepartingHour',y='Price')"
      ]
    },
    {
      "cell_type": "markdown",
      "id": "dd767c1f",
      "metadata": {
        "papermill": {
          "duration": 0.02421,
          "end_time": "2023-09-06T06:56:10.280209",
          "exception": false,
          "start_time": "2023-09-06T06:56:10.255999",
          "status": "completed"
        },
        "tags": [],
        "id": "dd767c1f"
      },
      "source": [
        "# Mumbai(BOM) ↔️ Bengaluru(BLR)"
      ]
    },
    {
      "cell_type": "markdown",
      "id": "0b44e16e",
      "metadata": {
        "papermill": {
          "duration": 0.028361,
          "end_time": "2023-09-06T06:56:10.334405",
          "exception": false,
          "start_time": "2023-09-06T06:56:10.306044",
          "status": "completed"
        },
        "tags": [],
        "id": "0b44e16e"
      },
      "source": [
        "#### Flights in route"
      ]
    },
    {
      "cell_type": "code",
      "execution_count": 48,
      "id": "ae4a2ef2",
      "metadata": {
        "execution": {
          "iopub.execute_input": "2023-09-06T06:56:10.384682Z",
          "iopub.status.busy": "2023-09-06T06:56:10.384303Z",
          "iopub.status.idle": "2023-09-06T06:56:10.529492Z",
          "shell.execute_reply": "2023-09-06T06:56:10.528189Z"
        },
        "papermill": {
          "duration": 0.171652,
          "end_time": "2023-09-06T06:56:10.532441",
          "exception": false,
          "start_time": "2023-09-06T06:56:10.360789",
          "status": "completed"
        },
        "tags": [],
        "colab": {
          "base_uri": "https://localhost:8080/",
          "height": 824
        },
        "id": "ae4a2ef2",
        "outputId": "cda34174-40ec-403a-996b-579bcfc5a08a"
      },
      "outputs": [
        {
          "output_type": "execute_result",
          "data": {
            "text/plain": [
              "array([<Axes: >], dtype=object)"
            ]
          },
          "metadata": {},
          "execution_count": 48
        },
        {
          "output_type": "display_data",
          "data": {
            "text/plain": [
              "<Figure size 2000x1000 with 1 Axes>"
            ],
            "image/png": "[encoded data removed]"
          },
          "metadata": {}
        }
      ],
      "source": [
        "df.groupby(\"FlightName\").size().plot(kind='pie',autopct='%1.1f%%',subplots=True)"
      ]
    },
    {
      "cell_type": "markdown",
      "source": [
        "Indigo is the most used flight"
      ],
      "metadata": {
        "id": "94RHkMV56HOo"
      },
      "id": "94RHkMV56HOo"
    },
    {
      "cell_type": "markdown",
      "id": "f01342a6",
      "metadata": {
        "papermill": {
          "duration": 0.030804,
          "end_time": "2023-09-06T06:56:10.596287",
          "exception": false,
          "start_time": "2023-09-06T06:56:10.565483",
          "status": "completed"
        },
        "tags": [],
        "id": "f01342a6"
      },
      "source": [
        "#### Average Price per flight in route"
      ]
    },
    {
      "cell_type": "code",
      "execution_count": 41,
      "id": "3129ed3b",
      "metadata": {
        "execution": {
          "iopub.execute_input": "2023-09-06T06:56:10.650366Z",
          "iopub.status.busy": "2023-09-06T06:56:10.649966Z",
          "iopub.status.idle": "2023-09-06T06:56:10.970985Z",
          "shell.execute_reply": "2023-09-06T06:56:10.970225Z"
        },
        "papermill": {
          "duration": 0.347564,
          "end_time": "2023-09-06T06:56:10.973012",
          "exception": false,
          "start_time": "2023-09-06T06:56:10.625448",
          "status": "completed"
        },
        "tags": [],
        "colab": {
          "base_uri": "https://localhost:8080/",
          "height": 725
        },
        "id": "3129ed3b",
        "outputId": "24e74819-3562-4899-a7be-7f615a354009"
      },
      "outputs": [
        {
          "output_type": "display_data",
          "data": {
            "text/plain": [
              "<Figure size 2000x1000 with 1 Axes>"
            ],
            "image/png": "[encoded data removed]"
          },
          "metadata": {}
        }
      ],
      "source": [
        "matplotlib.rcParams['figure.figsize'] = (20,10)\n",
        "df_avg_price = df.groupby('FlightName')['Price'].mean().reset_index().astype({'Price':'int'}).sort_values(by='Price',ascending=False)\n",
        "p = sns.barplot(x='FlightName',y='Price',data=df_avg_price)\n",
        "p.bar_label(p.containers[0])\n",
        "plt.title(\"Average Price per flight in route\")\n",
        "p.set_xticklabels(labels=df_avg_price[\"FlightName\"], rotation=35)\n",
        "sns.set(font_scale=1.25)\n",
        "plt.show()"
      ]
    },
    {
      "cell_type": "markdown",
      "id": "c475cb77",
      "metadata": {
        "papermill": {
          "duration": 0.023354,
          "end_time": "2023-09-06T06:56:11.020144",
          "exception": false,
          "start_time": "2023-09-06T06:56:10.996790",
          "status": "completed"
        },
        "tags": [],
        "id": "c475cb77"
      },
      "source": [
        "#### DepartingHour Vs Price"
      ]
    },
    {
      "cell_type": "code",
      "execution_count": 42,
      "id": "5be8bec9",
      "metadata": {
        "execution": {
          "iopub.execute_input": "2023-09-06T06:56:11.068719Z",
          "iopub.status.busy": "2023-09-06T06:56:11.068311Z",
          "iopub.status.idle": "2023-09-06T06:56:11.474976Z",
          "shell.execute_reply": "2023-09-06T06:56:11.474198Z"
        },
        "papermill": {
          "duration": 0.433717,
          "end_time": "2023-09-06T06:56:11.477420",
          "exception": false,
          "start_time": "2023-09-06T06:56:11.043703",
          "status": "completed"
        },
        "tags": [],
        "colab": {
          "base_uri": "https://localhost:8080/",
          "height": 699
        },
        "id": "5be8bec9",
        "outputId": "b36d89b0-b0f8-4444-ae69-c3630a2e8bf2"
      },
      "outputs": [
        {
          "output_type": "display_data",
          "data": {
            "text/plain": [
              "<Figure size 2000x1000 with 1 Axes>"
            ],
            "image/png": "[encoded data removed]"
          },
          "metadata": {}
        }
      ],
      "source": [
        "df_dh_avg = df.groupby('DepartingHour')['Price'].mean().reset_index()\n",
        "df_dh_avg.plot.line(x='DepartingHour',y='Price',title='DepartingHour Vs Price')\n",
        "plt.show()"
      ]
    },
    {
      "cell_type": "markdown",
      "source": [
        "Max flight departed in between 5-10"
      ],
      "metadata": {
        "id": "3q0Bq6Lp4_jz"
      },
      "id": "3q0Bq6Lp4_jz"
    },
    {
      "cell_type": "code",
      "execution_count": 43,
      "id": "789ee5a0",
      "metadata": {
        "execution": {
          "iopub.execute_input": "2023-09-06T06:56:18.084556Z",
          "iopub.status.busy": "2023-09-06T06:56:18.084120Z",
          "iopub.status.idle": "2023-09-06T06:56:18.092036Z",
          "shell.execute_reply": "2023-09-06T06:56:18.090525Z"
        },
        "papermill": {
          "duration": 0.059021,
          "end_time": "2023-09-06T06:56:18.094660",
          "exception": false,
          "start_time": "2023-09-06T06:56:18.035639",
          "status": "completed"
        },
        "tags": [],
        "colab": {
          "base_uri": "https://localhost:8080/"
        },
        "id": "789ee5a0",
        "outputId": "bd909a35-dd55-41af-ffbb-e91e7a10f365"
      },
      "outputs": [
        {
          "output_type": "execute_result",
          "data": {
            "text/plain": [
              "(90, 9)"
            ]
          },
          "metadata": {},
          "execution_count": 43
        }
      ],
      "source": [
        "df.shape"
      ]
    },
    {
      "cell_type": "code",
      "execution_count": 44,
      "id": "25d6adc8",
      "metadata": {
        "execution": {
          "iopub.execute_input": "2023-09-06T06:56:18.188133Z",
          "iopub.status.busy": "2023-09-06T06:56:18.187746Z",
          "iopub.status.idle": "2023-09-06T06:56:18.202402Z",
          "shell.execute_reply": "2023-09-06T06:56:18.201218Z"
        },
        "papermill": {
          "duration": 0.063831,
          "end_time": "2023-09-06T06:56:18.204687",
          "exception": false,
          "start_time": "2023-09-06T06:56:18.140856",
          "status": "completed"
        },
        "tags": [],
        "colab": {
          "base_uri": "https://localhost:8080/",
          "height": 206
        },
        "id": "25d6adc8",
        "outputId": "3bd47ff7-000b-4e27-dd78-94cb8f413a0c"
      },
      "outputs": [
        {
          "output_type": "execute_result",
          "data": {
            "text/plain": [
              "  FlightName  Price\n",
              "4    Vistara   9635\n",
              "0  Air India   7904\n",
              "3     IndiGo   5476\n",
              "2  Akasa Air   3870\n",
              "1    AirAsia   3711"
            ],
            "text/html": [
              "\n",
              "  <div id=\"df-b52a193e-698e-49c6-9a90-22ef45fd1b5b\" class=\"colab-df-container\">\n",
              "    <div>\n",
              "<style scoped>\n",
              "    .dataframe tbody tr th:only-of-type {\n",
              "        vertical-align: middle;\n",
              "    }\n",
              "\n",
              "    .dataframe tbody tr th {\n",
              "        vertical-align: top;\n",
              "    }\n",
              "\n",
              "    .dataframe thead th {\n",
              "        text-align: right;\n",
              "    }\n",
              "</style>\n",
              "<table border=\"1\" class=\"dataframe\">\n",
              "  <thead>\n",
              "    <tr style=\"text-align: right;\">\n",
              "      <th></th>\n",
              "      <th>FlightName</th>\n",
              "      <th>Price</th>\n",
              "    </tr>\n",
              "  </thead>\n",
              "  <tbody>\n",
              "    <tr>\n",
              "      <th>4</th>\n",
              "      <td>Vistara</td>\n",
              "      <td>9635</td>\n",
              "    </tr>\n",
              "    <tr>\n",
              "      <th>0</th>\n",
              "      <td>Air India</td>\n",
              "      <td>7904</td>\n",
              "    </tr>\n",
              "    <tr>\n",
              "      <th>3</th>\n",
              "      <td>IndiGo</td>\n",
              "      <td>5476</td>\n",
              "    </tr>\n",
              "    <tr>\n",
              "      <th>2</th>\n",
              "      <td>Akasa Air</td>\n",
              "      <td>3870</td>\n",
              "    </tr>\n",
              "    <tr>\n",
              "      <th>1</th>\n",
              "      <td>AirAsia</td>\n",
              "      <td>3711</td>\n",
              "    </tr>\n",
              "  </tbody>\n",
              "</table>\n",
              "</div>\n",
              "    <div class=\"colab-df-buttons\">\n",
              "\n",
              "  <div class=\"colab-df-container\">\n",
              "    <button class=\"colab-df-convert\" onclick=\"convertToInteractive('df-b52a193e-698e-49c6-9a90-22ef45fd1b5b')\"\n",
              "            title=\"Convert this dataframe to an interactive table.\"\n",
              "            style=\"display:none;\">\n",
              "\n",
              "  <svg xmlns=\"http://www.w3.org/2000/svg\" height=\"24px\" viewBox=\"0 -960 960 960\">\n",
              "    <path d=\"M120-120v-720h720v720H120Zm60-500h600v-160H180v160Zm220 220h160v-160H400v160Zm0 220h160v-160H400v160ZM180-400h160v-160H180v160Zm440 0h160v-160H620v160ZM180-180h160v-160H180v160Zm440 0h160v-160H620v160Z\"/>\n",
              "  </svg>\n",
              "    </button>\n",
              "\n",
              "  <style>\n",
              "    .colab-df-container {\n",
              "      display:flex;\n",
              "      gap: 12px;\n",
              "    }\n",
              "\n",
              "    .colab-df-convert {\n",
              "      background-color: #E8F0FE;\n",
              "      border: none;\n",
              "      border-radius: 50%;\n",
              "      cursor: pointer;\n",
              "      display: none;\n",
              "      fill: #1967D2;\n",
              "      height: 32px;\n",
              "      padding: 0 0 0 0;\n",
              "      width: 32px;\n",
              "    }\n",
              "\n",
              "    .colab-df-convert:hover {\n",
              "      background-color: #E2EBFA;\n",
              "      box-shadow: 0px 1px 2px rgba(60, 64, 67, 0.3), 0px 1px 3px 1px rgba(60, 64, 67, 0.15);\n",
              "      fill: #174EA6;\n",
              "    }\n",
              "\n",
              "    .colab-df-buttons div {\n",
              "      margin-bottom: 4px;\n",
              "    }\n",
              "\n",
              "    [theme=dark] .colab-df-convert {\n",
              "      background-color: #3B4455;\n",
              "      fill: #D2E3FC;\n",
              "    }\n",
              "\n",
              "    [theme=dark] .colab-df-convert:hover {\n",
              "      background-color: #434B5C;\n",
              "      box-shadow: 0px 1px 3px 1px rgba(0, 0, 0, 0.15);\n",
              "      filter: drop-shadow(0px 1px 2px rgba(0, 0, 0, 0.3));\n",
              "      fill: #FFFFFF;\n",
              "    }\n",
              "  </style>\n",
              "\n",
              "    <script>\n",
              "      const buttonEl =\n",
              "        document.querySelector('#df-b52a193e-698e-49c6-9a90-22ef45fd1b5b button.colab-df-convert');\n",
              "      buttonEl.style.display =\n",
              "        google.colab.kernel.accessAllowed ? 'block' : 'none';\n",
              "\n",
              "      async function convertToInteractive(key) {\n",
              "        const element = document.querySelector('#df-b52a193e-698e-49c6-9a90-22ef45fd1b5b');\n",
              "        const dataTable =\n",
              "          await google.colab.kernel.invokeFunction('convertToInteractive',\n",
              "                                                    [key], {});\n",
              "        if (!dataTable) return;\n",
              "\n",
              "        const docLinkHtml = 'Like what you see? Visit the ' +\n",
              "          '<a target=\"_blank\" href=https://colab.research.google.com/notebooks/data_table.ipynb>data table notebook</a>'\n",
              "          + ' to learn more about interactive tables.';\n",
              "        element.innerHTML = '';\n",
              "        dataTable['output_type'] = 'display_data';\n",
              "        await google.colab.output.renderOutput(dataTable, element);\n",
              "        const docLink = document.createElement('div');\n",
              "        docLink.innerHTML = docLinkHtml;\n",
              "        element.appendChild(docLink);\n",
              "      }\n",
              "    </script>\n",
              "  </div>\n",
              "\n",
              "\n",
              "<div id=\"df-b560e783-ef3c-4d64-bcd3-27edb22711e8\">\n",
              "  <button class=\"colab-df-quickchart\" onclick=\"quickchart('df-b560e783-ef3c-4d64-bcd3-27edb22711e8')\"\n",
              "            title=\"Suggest charts.\"\n",
              "            style=\"display:none;\">\n",
              "\n",
              "<svg xmlns=\"http://www.w3.org/2000/svg\" height=\"24px\"viewBox=\"0 0 24 24\"\n",
              "     width=\"24px\">\n",
              "    <g>\n",
              "        <path d=\"M19 3H5c-1.1 0-2 .9-2 2v14c0 1.1.9 2 2 2h14c1.1 0 2-.9 2-2V5c0-1.1-.9-2-2-2zM9 17H7v-7h2v7zm4 0h-2V7h2v10zm4 0h-2v-4h2v4z\"/>\n",
              "    </g>\n",
              "</svg>\n",
              "  </button>\n",
              "\n",
              "<style>\n",
              "  .colab-df-quickchart {\n",
              "      --bg-color: #E8F0FE;\n",
              "      --fill-color: #1967D2;\n",
              "      --hover-bg-color: #E2EBFA;\n",
              "      --hover-fill-color: #174EA6;\n",
              "      --disabled-fill-color: #AAA;\n",
              "      --disabled-bg-color: #DDD;\n",
              "  }\n",
              "\n",
              "  [theme=dark] .colab-df-quickchart {\n",
              "      --bg-color: #3B4455;\n",
              "      --fill-color: #D2E3FC;\n",
              "      --hover-bg-color: #434B5C;\n",
              "      --hover-fill-color: #FFFFFF;\n",
              "      --disabled-bg-color: #3B4455;\n",
              "      --disabled-fill-color: #666;\n",
              "  }\n",
              "\n",
              "  .colab-df-quickchart {\n",
              "    background-color: var(--bg-color);\n",
              "    border: none;\n",
              "    border-radius: 50%;\n",
              "    cursor: pointer;\n",
              "    display: none;\n",
              "    fill: var(--fill-color);\n",
              "    height: 32px;\n",
              "    padding: 0;\n",
              "    width: 32px;\n",
              "  }\n",
              "\n",
              "  .colab-df-quickchart:hover {\n",
              "    background-color: var(--hover-bg-color);\n",
              "    box-shadow: 0 1px 2px rgba(60, 64, 67, 0.3), 0 1px 3px 1px rgba(60, 64, 67, 0.15);\n",
              "    fill: var(--button-hover-fill-color);\n",
              "  }\n",
              "\n",
              "  .colab-df-quickchart-complete:disabled,\n",
              "  .colab-df-quickchart-complete:disabled:hover {\n",
              "    background-color: var(--disabled-bg-color);\n",
              "    fill: var(--disabled-fill-color);\n",
              "    box-shadow: none;\n",
              "  }\n",
              "\n",
              "  .colab-df-spinner {\n",
              "    border: 2px solid var(--fill-color);\n",
              "    border-color: transparent;\n",
              "    border-bottom-color: var(--fill-color);\n",
              "    animation:\n",
              "      spin 1s steps(1) infinite;\n",
              "  }\n",
              "\n",
              "  @keyframes spin {\n",
              "    0% {\n",
              "      border-color: transparent;\n",
              "      border-bottom-color: var(--fill-color);\n",
              "      border-left-color: var(--fill-color);\n",
              "    }\n",
              "    20% {\n",
              "      border-color: transparent;\n",
              "      border-left-color: var(--fill-color);\n",
              "      border-top-color: var(--fill-color);\n",
              "    }\n",
              "    30% {\n",
              "      border-color: transparent;\n",
              "      border-left-color: var(--fill-color);\n",
              "      border-top-color: var(--fill-color);\n",
              "      border-right-color: var(--fill-color);\n",
              "    }\n",
              "    40% {\n",
              "      border-color: transparent;\n",
              "      border-right-color: var(--fill-color);\n",
              "      border-top-color: var(--fill-color);\n",
              "    }\n",
              "    60% {\n",
              "      border-color: transparent;\n",
              "      border-right-color: var(--fill-color);\n",
              "    }\n",
              "    80% {\n",
              "      border-color: transparent;\n",
              "      border-right-color: var(--fill-color);\n",
              "      border-bottom-color: var(--fill-color);\n",
              "    }\n",
              "    90% {\n",
              "      border-color: transparent;\n",
              "      border-bottom-color: var(--fill-color);\n",
              "    }\n",
              "  }\n",
              "</style>\n",
              "\n",
              "  <script>\n",
              "    async function quickchart(key) {\n",
              "      const quickchartButtonEl =\n",
              "        document.querySelector('#' + key + ' button');\n",
              "      quickchartButtonEl.disabled = true;  // To prevent multiple clicks.\n",
              "      quickchartButtonEl.classList.add('colab-df-spinner');\n",
              "      try {\n",
              "        const charts = await google.colab.kernel.invokeFunction(\n",
              "            'suggestCharts', [key], {});\n",
              "      } catch (error) {\n",
              "        console.error('Error during call to suggestCharts:', error);\n",
              "      }\n",
              "      quickchartButtonEl.classList.remove('colab-df-spinner');\n",
              "      quickchartButtonEl.classList.add('colab-df-quickchart-complete');\n",
              "    }\n",
              "    (() => {\n",
              "      let quickchartButtonEl =\n",
              "        document.querySelector('#df-b560e783-ef3c-4d64-bcd3-27edb22711e8 button');\n",
              "      quickchartButtonEl.style.display =\n",
              "        google.colab.kernel.accessAllowed ? 'block' : 'none';\n",
              "    })();\n",
              "  </script>\n",
              "</div>\n",
              "    </div>\n",
              "  </div>\n"
            ]
          },
          "metadata": {},
          "execution_count": 44
        }
      ],
      "source": [
        "df_avg_p_f = df.groupby('FlightName')['Price'].mean().reset_index().astype({'Price':'int'}).sort_values(by='Price',ascending=False)\n",
        "df_avg_p_f"
      ]
    },
    {
      "cell_type": "markdown",
      "id": "19e39f89",
      "metadata": {
        "papermill": {
          "duration": 0.046692,
          "end_time": "2023-09-06T06:56:18.297500",
          "exception": false,
          "start_time": "2023-09-06T06:56:18.250808",
          "status": "completed"
        },
        "tags": [],
        "id": "19e39f89"
      },
      "source": [
        "#### Average price per flight"
      ]
    },
    {
      "cell_type": "code",
      "execution_count": 45,
      "id": "c94b0584",
      "metadata": {
        "execution": {
          "iopub.execute_input": "2023-09-06T06:56:18.392992Z",
          "iopub.status.busy": "2023-09-06T06:56:18.392365Z",
          "iopub.status.idle": "2023-09-06T06:56:18.736503Z",
          "shell.execute_reply": "2023-09-06T06:56:18.735146Z"
        },
        "papermill": {
          "duration": 0.394778,
          "end_time": "2023-09-06T06:56:18.739006",
          "exception": false,
          "start_time": "2023-09-06T06:56:18.344228",
          "status": "completed"
        },
        "tags": [],
        "colab": {
          "base_uri": "https://localhost:8080/",
          "height": 735
        },
        "id": "c94b0584",
        "outputId": "e3f6dde9-a6ac-4220-f5ff-87d015205d78"
      },
      "outputs": [
        {
          "output_type": "display_data",
          "data": {
            "text/plain": [
              "<Figure size 2000x1000 with 1 Axes>"
            ],
            "image/png": "[encoded data removed]"
          },
          "metadata": {}
        }
      ],
      "source": [
        "df_avg_p_f.plot.bar(x='FlightName',y='Price')\n",
        "plt.show()"
      ]
    },
    {
      "cell_type": "markdown",
      "id": "aba147ad",
      "metadata": {
        "papermill": {
          "duration": 0.04661,
          "end_time": "2023-09-06T06:56:18.833449",
          "exception": false,
          "start_time": "2023-09-06T06:56:18.786839",
          "status": "completed"
        },
        "tags": [],
        "id": "aba147ad"
      },
      "source": [
        "Vistara is the costliest airline in the country while AirAsia is of min cost.\n",
        "\n"
      ]
    },
    {
      "cell_type": "markdown",
      "id": "3c1e0589",
      "metadata": {
        "papermill": {
          "duration": 0.045852,
          "end_time": "2023-09-06T06:56:18.925712",
          "exception": false,
          "start_time": "2023-09-06T06:56:18.879860",
          "status": "completed"
        },
        "tags": [],
        "id": "3c1e0589"
      },
      "source": [
        "#### Average price per route"
      ]
    },
    {
      "cell_type": "code",
      "execution_count": 46,
      "id": "f973e785",
      "metadata": {
        "execution": {
          "iopub.execute_input": "2023-09-06T06:56:19.021191Z",
          "iopub.status.busy": "2023-09-06T06:56:19.020381Z",
          "iopub.status.idle": "2023-09-06T06:56:19.041574Z",
          "shell.execute_reply": "2023-09-06T06:56:19.040321Z"
        },
        "papermill": {
          "duration": 0.07135,
          "end_time": "2023-09-06T06:56:19.043924",
          "exception": false,
          "start_time": "2023-09-06T06:56:18.972574",
          "status": "completed"
        },
        "tags": [],
        "colab": {
          "base_uri": "https://localhost:8080/",
          "height": 112
        },
        "id": "f973e785",
        "outputId": "e1ff1f0a-b192-4144-c454-89a857541d18"
      },
      "outputs": [
        {
          "output_type": "execute_result",
          "data": {
            "text/plain": [
              "  DepartingCity ArrivingCity  Price              Route\n",
              "0     Bengaluru       Mumbai   6462  Bengaluru↔️Mumbai\n",
              "1        Mumbai    Bengaluru   5897  Mumbai↔️Bengaluru"
            ],
            "text/html": [
              "\n",
              "  <div id=\"df-d4a09c2a-05fd-4e2c-b88a-81142fa0288a\" class=\"colab-df-container\">\n",
              "    <div>\n",
              "<style scoped>\n",
              "    .dataframe tbody tr th:only-of-type {\n",
              "        vertical-align: middle;\n",
              "    }\n",
              "\n",
              "    .dataframe tbody tr th {\n",
              "        vertical-align: top;\n",
              "    }\n",
              "\n",
              "    .dataframe thead th {\n",
              "        text-align: right;\n",
              "    }\n",
              "</style>\n",
              "<table border=\"1\" class=\"dataframe\">\n",
              "  <thead>\n",
              "    <tr style=\"text-align: right;\">\n",
              "      <th></th>\n",
              "      <th>DepartingCity</th>\n",
              "      <th>ArrivingCity</th>\n",
              "      <th>Price</th>\n",
              "      <th>Route</th>\n",
              "    </tr>\n",
              "  </thead>\n",
              "  <tbody>\n",
              "    <tr>\n",
              "      <th>0</th>\n",
              "      <td>Bengaluru</td>\n",
              "      <td>Mumbai</td>\n",
              "      <td>6462</td>\n",
              "      <td>Bengaluru↔️Mumbai</td>\n",
              "    </tr>\n",
              "    <tr>\n",
              "      <th>1</th>\n",
              "      <td>Mumbai</td>\n",
              "      <td>Bengaluru</td>\n",
              "      <td>5897</td>\n",
              "      <td>Mumbai↔️Bengaluru</td>\n",
              "    </tr>\n",
              "  </tbody>\n",
              "</table>\n",
              "</div>\n",
              "    <div class=\"colab-df-buttons\">\n",
              "\n",
              "  <div class=\"colab-df-container\">\n",
              "    <button class=\"colab-df-convert\" onclick=\"convertToInteractive('df-d4a09c2a-05fd-4e2c-b88a-81142fa0288a')\"\n",
              "            title=\"Convert this dataframe to an interactive table.\"\n",
              "            style=\"display:none;\">\n",
              "\n",
              "  <svg xmlns=\"http://www.w3.org/2000/svg\" height=\"24px\" viewBox=\"0 -960 960 960\">\n",
              "    <path d=\"M120-120v-720h720v720H120Zm60-500h600v-160H180v160Zm220 220h160v-160H400v160Zm0 220h160v-160H400v160ZM180-400h160v-160H180v160Zm440 0h160v-160H620v160ZM180-180h160v-160H180v160Zm440 0h160v-160H620v160Z\"/>\n",
              "  </svg>\n",
              "    </button>\n",
              "\n",
              "  <style>\n",
              "    .colab-df-container {\n",
              "      display:flex;\n",
              "      gap: 12px;\n",
              "    }\n",
              "\n",
              "    .colab-df-convert {\n",
              "      background-color: #E8F0FE;\n",
              "      border: none;\n",
              "      border-radius: 50%;\n",
              "      cursor: pointer;\n",
              "      display: none;\n",
              "      fill: #1967D2;\n",
              "      height: 32px;\n",
              "      padding: 0 0 0 0;\n",
              "      width: 32px;\n",
              "    }\n",
              "\n",
              "    .colab-df-convert:hover {\n",
              "      background-color: #E2EBFA;\n",
              "      box-shadow: 0px 1px 2px rgba(60, 64, 67, 0.3), 0px 1px 3px 1px rgba(60, 64, 67, 0.15);\n",
              "      fill: #174EA6;\n",
              "    }\n",
              "\n",
              "    .colab-df-buttons div {\n",
              "      margin-bottom: 4px;\n",
              "    }\n",
              "\n",
              "    [theme=dark] .colab-df-convert {\n",
              "      background-color: #3B4455;\n",
              "      fill: #D2E3FC;\n",
              "    }\n",
              "\n",
              "    [theme=dark] .colab-df-convert:hover {\n",
              "      background-color: #434B5C;\n",
              "      box-shadow: 0px 1px 3px 1px rgba(0, 0, 0, 0.15);\n",
              "      filter: drop-shadow(0px 1px 2px rgba(0, 0, 0, 0.3));\n",
              "      fill: #FFFFFF;\n",
              "    }\n",
              "  </style>\n",
              "\n",
              "    <script>\n",
              "      const buttonEl =\n",
              "        document.querySelector('#df-d4a09c2a-05fd-4e2c-b88a-81142fa0288a button.colab-df-convert');\n",
              "      buttonEl.style.display =\n",
              "        google.colab.kernel.accessAllowed ? 'block' : 'none';\n",
              "\n",
              "      async function convertToInteractive(key) {\n",
              "        const element = document.querySelector('#df-d4a09c2a-05fd-4e2c-b88a-81142fa0288a');\n",
              "        const dataTable =\n",
              "          await google.colab.kernel.invokeFunction('convertToInteractive',\n",
              "                                                    [key], {});\n",
              "        if (!dataTable) return;\n",
              "\n",
              "        const docLinkHtml = 'Like what you see? Visit the ' +\n",
              "          '<a target=\"_blank\" href=https://colab.research.google.com/notebooks/data_table.ipynb>data table notebook</a>'\n",
              "          + ' to learn more about interactive tables.';\n",
              "        element.innerHTML = '';\n",
              "        dataTable['output_type'] = 'display_data';\n",
              "        await google.colab.output.renderOutput(dataTable, element);\n",
              "        const docLink = document.createElement('div');\n",
              "        docLink.innerHTML = docLinkHtml;\n",
              "        element.appendChild(docLink);\n",
              "      }\n",
              "    </script>\n",
              "  </div>\n",
              "\n",
              "\n",
              "<div id=\"df-024c4944-3d15-4157-a08e-bdd586cfbb2a\">\n",
              "  <button class=\"colab-df-quickchart\" onclick=\"quickchart('df-024c4944-3d15-4157-a08e-bdd586cfbb2a')\"\n",
              "            title=\"Suggest charts.\"\n",
              "            style=\"display:none;\">\n",
              "\n",
              "<svg xmlns=\"http://www.w3.org/2000/svg\" height=\"24px\"viewBox=\"0 0 24 24\"\n",
              "     width=\"24px\">\n",
              "    <g>\n",
              "        <path d=\"M19 3H5c-1.1 0-2 .9-2 2v14c0 1.1.9 2 2 2h14c1.1 0 2-.9 2-2V5c0-1.1-.9-2-2-2zM9 17H7v-7h2v7zm4 0h-2V7h2v10zm4 0h-2v-4h2v4z\"/>\n",
              "    </g>\n",
              "</svg>\n",
              "  </button>\n",
              "\n",
              "<style>\n",
              "  .colab-df-quickchart {\n",
              "      --bg-color: #E8F0FE;\n",
              "      --fill-color: #1967D2;\n",
              "      --hover-bg-color: #E2EBFA;\n",
              "      --hover-fill-color: #174EA6;\n",
              "      --disabled-fill-color: #AAA;\n",
              "      --disabled-bg-color: #DDD;\n",
              "  }\n",
              "\n",
              "  [theme=dark] .colab-df-quickchart {\n",
              "      --bg-color: #3B4455;\n",
              "      --fill-color: #D2E3FC;\n",
              "      --hover-bg-color: #434B5C;\n",
              "      --hover-fill-color: #FFFFFF;\n",
              "      --disabled-bg-color: #3B4455;\n",
              "      --disabled-fill-color: #666;\n",
              "  }\n",
              "\n",
              "  .colab-df-quickchart {\n",
              "    background-color: var(--bg-color);\n",
              "    border: none;\n",
              "    border-radius: 50%;\n",
              "    cursor: pointer;\n",
              "    display: none;\n",
              "    fill: var(--fill-color);\n",
              "    height: 32px;\n",
              "    padding: 0;\n",
              "    width: 32px;\n",
              "  }\n",
              "\n",
              "  .colab-df-quickchart:hover {\n",
              "    background-color: var(--hover-bg-color);\n",
              "    box-shadow: 0 1px 2px rgba(60, 64, 67, 0.3), 0 1px 3px 1px rgba(60, 64, 67, 0.15);\n",
              "    fill: var(--button-hover-fill-color);\n",
              "  }\n",
              "\n",
              "  .colab-df-quickchart-complete:disabled,\n",
              "  .colab-df-quickchart-complete:disabled:hover {\n",
              "    background-color: var(--disabled-bg-color);\n",
              "    fill: var(--disabled-fill-color);\n",
              "    box-shadow: none;\n",
              "  }\n",
              "\n",
              "  .colab-df-spinner {\n",
              "    border: 2px solid var(--fill-color);\n",
              "    border-color: transparent;\n",
              "    border-bottom-color: var(--fill-color);\n",
              "    animation:\n",
              "      spin 1s steps(1) infinite;\n",
              "  }\n",
              "\n",
              "  @keyframes spin {\n",
              "    0% {\n",
              "      border-color: transparent;\n",
              "      border-bottom-color: var(--fill-color);\n",
              "      border-left-color: var(--fill-color);\n",
              "    }\n",
              "    20% {\n",
              "      border-color: transparent;\n",
              "      border-left-color: var(--fill-color);\n",
              "      border-top-color: var(--fill-color);\n",
              "    }\n",
              "    30% {\n",
              "      border-color: transparent;\n",
              "      border-left-color: var(--fill-color);\n",
              "      border-top-color: var(--fill-color);\n",
              "      border-right-color: var(--fill-color);\n",
              "    }\n",
              "    40% {\n",
              "      border-color: transparent;\n",
              "      border-right-color: var(--fill-color);\n",
              "      border-top-color: var(--fill-color);\n",
              "    }\n",
              "    60% {\n",
              "      border-color: transparent;\n",
              "      border-right-color: var(--fill-color);\n",
              "    }\n",
              "    80% {\n",
              "      border-color: transparent;\n",
              "      border-right-color: var(--fill-color);\n",
              "      border-bottom-color: var(--fill-color);\n",
              "    }\n",
              "    90% {\n",
              "      border-color: transparent;\n",
              "      border-bottom-color: var(--fill-color);\n",
              "    }\n",
              "  }\n",
              "</style>\n",
              "\n",
              "  <script>\n",
              "    async function quickchart(key) {\n",
              "      const quickchartButtonEl =\n",
              "        document.querySelector('#' + key + ' button');\n",
              "      quickchartButtonEl.disabled = true;  // To prevent multiple clicks.\n",
              "      quickchartButtonEl.classList.add('colab-df-spinner');\n",
              "      try {\n",
              "        const charts = await google.colab.kernel.invokeFunction(\n",
              "            'suggestCharts', [key], {});\n",
              "      } catch (error) {\n",
              "        console.error('Error during call to suggestCharts:', error);\n",
              "      }\n",
              "      quickchartButtonEl.classList.remove('colab-df-spinner');\n",
              "      quickchartButtonEl.classList.add('colab-df-quickchart-complete');\n",
              "    }\n",
              "    (() => {\n",
              "      let quickchartButtonEl =\n",
              "        document.querySelector('#df-024c4944-3d15-4157-a08e-bdd586cfbb2a button');\n",
              "      quickchartButtonEl.style.display =\n",
              "        google.colab.kernel.accessAllowed ? 'block' : 'none';\n",
              "    })();\n",
              "  </script>\n",
              "</div>\n",
              "    </div>\n",
              "  </div>\n"
            ]
          },
          "metadata": {},
          "execution_count": 46
        }
      ],
      "source": [
        "df_avg_route = df.groupby(['DepartingCity','ArrivingCity'])['Price'].mean().reset_index().astype({'Price':'int'}).sort_values(by='Price',ascending=False)\n",
        "df_avg_route[\"Route\"] = df_avg_route[\"DepartingCity\"]+\"↔️\"+df_avg_route[\"ArrivingCity\"]\n",
        "df_avg_route"
      ]
    },
    {
      "cell_type": "markdown",
      "source": [
        " Price of Bangluru to Mumbai is more as compared to Mum to *Bangluru*"
      ],
      "metadata": {
        "id": "0j2yYmmD5OSA"
      },
      "id": "0j2yYmmD5OSA"
    },
    {
      "cell_type": "code",
      "execution_count": 47,
      "id": "e4d83a0c",
      "metadata": {
        "execution": {
          "iopub.execute_input": "2023-09-06T06:56:19.145070Z",
          "iopub.status.busy": "2023-09-06T06:56:19.144679Z",
          "iopub.status.idle": "2023-09-06T06:56:19.576556Z",
          "shell.execute_reply": "2023-09-06T06:56:19.575328Z"
        },
        "papermill": {
          "duration": 0.484314,
          "end_time": "2023-09-06T06:56:19.579058",
          "exception": false,
          "start_time": "2023-09-06T06:56:19.094744",
          "status": "completed"
        },
        "scrolled": true,
        "tags": [],
        "colab": {
          "base_uri": "https://localhost:8080/",
          "height": 1000
        },
        "id": "e4d83a0c",
        "outputId": "dae76d1f-bd58-40ad-efa9-95eec493d972"
      },
      "outputs": [
        {
          "output_type": "display_data",
          "data": {
            "text/plain": [
              "<Figure size 2000x1000 with 1 Axes>"
            ],
            "image/png": "[encoded data removed]"
          },
          "metadata": {}
        }
      ],
      "source": [
        "df_avg_route.plot.bar(x='Route',y='Price')\n",
        "plt.show()"
      ]
    },
    {
      "cell_type": "markdown",
      "id": "37994b05",
      "metadata": {
        "papermill": {
          "duration": 0.048044,
          "end_time": "2023-09-06T06:56:19.775136",
          "exception": false,
          "start_time": "2023-09-06T06:56:19.727092",
          "status": "completed"
        },
        "tags": [],
        "id": "37994b05"
      },
      "source": [
        "# THANK YOU 🙏"
      ]
    }
  ],
  "metadata": {
    "kernelspec": {
      "display_name": "Python 3 (ipykernel)",
      "language": "python",
      "name": "python3"
    },
    "language_info": {
      "codemirror_mode": {
        "name": "ipython",
        "version": 3
      },
      "file_extension": ".py",
      "mimetype": "text/x-python",
      "name": "python",
      "nbconvert_exporter": "python",
      "pygments_lexer": "ipython3",
      "version": "3.10.12"
    },
    "papermill": {
      "default_parameters": {},
      "duration": 20.250301,
      "end_time": "2023-09-06T06:56:20.838680",
      "environment_variables": {},
      "exception": null,
      "input_path": "__notebook__.ipynb",
      "output_path": "__notebook__.ipynb",
      "parameters": {},
      "start_time": "2023-09-06T06:56:00.588379",
      "version": "2.4.0"
    },
    "colab": {
      "provenance": []
    }
  },
  "nbformat": 4,
  "nbformat_minor": 5
}